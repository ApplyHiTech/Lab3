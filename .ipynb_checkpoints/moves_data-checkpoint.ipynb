{
 "cells": [
  {
   "cell_type": "code",
   "execution_count": 12,
   "metadata": {
    "collapsed": false
   },
   "outputs": [
    {
     "name": "stdout",
     "output_type": "stream",
     "text": [
      "        Date  Steps\n",
      "0   10/20/15   1327\n",
      "2   10/21/15   4902\n",
      "5   10/22/15  11676\n",
      "7   10/23/15   6582\n",
      "9   10/24/15    925\n",
      "10  10/25/15   5850\n",
      "12  10/26/15   6246\n",
      "14  10/27/15   6274\n",
      "17  10/28/15   5658\n",
      "19  10/29/15   4224\n"
     ]
    },
    {
     "data": {
      "text/plain": [
       "5366.4"
      ]
     },
     "execution_count": 12,
     "metadata": {},
     "output_type": "execute_result"
    }
   ],
   "source": [
    "#This is Lab 3 for Health Tech\n",
    "\n",
    "\n",
    "#create a table that has: \n",
    "# Columns: patient ID, hours of sleep, \n",
    "\n",
    "\n",
    "#Read the Moves Steps App. \n",
    "\n",
    "import csv     # imports the csv module\n",
    "import sys      # imports the sys module\n",
    "\n",
    "import numpy as np\n",
    "import pandas as pd\n",
    "df = pd.read_csv('./summary_2015-10 copy.csv') # opens the csv file\n",
    "\n",
    "\n",
    "df2 = df[df.Activity == 'walking']\n",
    "\n",
    "df3 = df2[['Date','Steps']]\n",
    "print df3\n",
    "df3.set_index('Date')\n",
    "np.mean(df3.Steps)"
   ]
  },
  {
   "cell_type": "code",
   "execution_count": null,
   "metadata": {
    "collapsed": true
   },
   "outputs": [],
   "source": []
  }
 ],
 "metadata": {
  "kernelspec": {
   "display_name": "Python 2",
   "language": "python",
   "name": "python2"
  },
  "language_info": {
   "codemirror_mode": {
    "name": "ipython",
    "version": 2
   },
   "file_extension": ".py",
   "mimetype": "text/x-python",
   "name": "python",
   "nbconvert_exporter": "python",
   "pygments_lexer": "ipython2",
   "version": "2.7.10"
  }
 },
 "nbformat": 4,
 "nbformat_minor": 0
}
